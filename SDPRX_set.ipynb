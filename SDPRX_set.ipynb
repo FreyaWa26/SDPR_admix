{
 "cells": [
  {
   "cell_type": "code",
   "execution_count": 1,
   "id": "c263aa1c-8feb-4611-9a41-4f28b150d658",
   "metadata": {},
   "outputs": [],
   "source": [
    "import numpy as np\n",
    "#import gzip, pickle\n",
    "#import scipy\n",
    "import pandas as pd"
   ]
  },
  {
   "cell_type": "code",
   "execution_count": 2,
   "id": "4c6ed704-65b4-4298-9aa4-2282621a1fb3",
   "metadata": {},
   "outputs": [
    {
     "name": "stderr",
     "output_type": "stream",
     "text": [
      "/tmp/ipykernel_3595930/35255948.py:5: FutureWarning: The 'delim_whitespace' keyword in pd.read_csv is deprecated and will be removed in a future version. Use ``sep='\\s+'`` instead\n",
      "  bim_df = pd.read_csv(bim_file, delim_whitespace=True, header=None)\n"
     ]
    }
   ],
   "source": [
    "bim_file = \"/gpfs/gibbs/pi/zhao/gz222/SDPR_admix/Real/genotype/UKB/Ukb_imp_v2.bim\"\n",
    "\n",
    "# Read the .bim file into a pandas DataFrame\n",
    "# .bim files are usually space/tab delimited, so use delim_whitespace=True\n",
    "bim_df = pd.read_csv(bim_file, delim_whitespace=True, header=None)\n",
    "\n",
    "# Assign column names for better readability\n",
    "bim_df.columns = ['Chromosome', 'rsID', 'Genetic_distance', 'Position', 'Allele1', 'Allele2']\n"
   ]
  },
  {
   "cell_type": "code",
   "execution_count": 6,
   "id": "d10c00b3-01f4-48d5-a043-32a9d9a26da4",
   "metadata": {},
   "outputs": [
    {
     "name": "stdout",
     "output_type": "stream",
     "text": [
      "   Chromosome        rsID  Genetic_distance  Position Allele1 Allele2\n",
      "0           1  rs12562034                 0    833068       A       G\n",
      "1           1   rs4040617                 0    843942       G       A\n",
      "2           1   rs4970383                 0    903175       A       C\n",
      "3           1   rs4475691                 0    911428       T       C\n",
      "4           1   rs1806509                 0    918574       A       C\n"
     ]
    }
   ],
   "source": [
    "print(bim_df.head())"
   ]
  },
  {
   "cell_type": "code",
   "execution_count": 23,
   "id": "862057b9-52ad-4d7d-aa36-7b64449fb72b",
   "metadata": {},
   "outputs": [
    {
     "name": "stderr",
     "output_type": "stream",
     "text": [
      "/tmp/ipykernel_3595930/3446340865.py:4: FutureWarning: The 'delim_whitespace' keyword in pd.read_csv is deprecated and will be removed in a future version. Use ``sep='\\s+'`` instead\n",
      "  glm_df = pd.read_csv(glm_file, delim_whitespace=True)\n"
     ]
    },
    {
     "name": "stdout",
     "output_type": "stream",
     "text": [
      "   #CHROM     POS               ID REF ALT A1 TEST  OBS_CT      BETA  \\\n",
      "0       1  833068  chr1:833068:G:A   G   A  A  ADD   13135 -0.093085   \n",
      "1       1  843942  chr1:843942:A:G   A   G  G  ADD   13135 -0.131037   \n",
      "2       1  903175  chr1:903175:C:A   C   A  A  ADD   13135  0.199440   \n",
      "3       1  911428  chr1:911428:C:T   C   T  T  ADD   13135  0.043911   \n",
      "4       1  918574  chr1:918574:C:A   C   A  A  ADD   13135 -0.138256   \n",
      "\n",
      "         SE    T_STAT         P ERRCODE  \n",
      "0  0.155215 -0.599713  0.548708       .  \n",
      "1  0.088304 -1.483930  0.137851       .  \n",
      "2  0.091027  2.190990  0.028470       .  \n",
      "3  0.090954  0.482787  0.629255       .  \n",
      "4  0.089771 -1.540090  0.123563       .  \n"
     ]
    }
   ],
   "source": [
    "glm_file = \"/gpfs/gibbs/pi/zhao/fw286/RealData/height_gwas.PHENO1.glm.linear\"\n",
    "\n",
    "# Read the .glm.linear file into a pandas DataFrame\n",
    "glm_df = pd.read_csv(glm_file, delim_whitespace=True)\n",
    "\n",
    "# Display the first few rows of the DataFrame\n",
    "print(glm_df.head())"
   ]
  },
  {
   "cell_type": "code",
   "execution_count": 24,
   "id": "883d6e07-b3a9-4036-9ee4-b6c00faea87d",
   "metadata": {},
   "outputs": [
    {
     "name": "stdout",
     "output_type": "stream",
     "text": [
      "   #CHROM     POS               ID REF ALT A1 TEST  OBS_CT      BETA  \\\n",
      "0       1  833068  chr1:833068:G:A   G   A  A  ADD   13135 -0.093085   \n",
      "1       1  843942  chr1:843942:A:G   A   G  G  ADD   13135 -0.131037   \n",
      "2       1  903175  chr1:903175:C:A   C   A  A  ADD   13135  0.199440   \n",
      "3       1  911428  chr1:911428:C:T   C   T  T  ADD   13135  0.043911   \n",
      "4       1  918574  chr1:918574:C:A   C   A  A  ADD   13135 -0.138256   \n",
      "\n",
      "         SE    T_STAT         P ERRCODE  Chromosome        rsID  \\\n",
      "0  0.155215 -0.599713  0.548708       .           1  rs12562034   \n",
      "1  0.088304 -1.483930  0.137851       .           1   rs4040617   \n",
      "2  0.091027  2.190990  0.028470       .           1   rs4970383   \n",
      "3  0.090954  0.482787  0.629255       .           1   rs4475691   \n",
      "4  0.089771 -1.540090  0.123563       .           1   rs1806509   \n",
      "\n",
      "   Genetic_distance Allele1 Allele2  \n",
      "0                 0       A       G  \n",
      "1                 0       G       A  \n",
      "2                 0       A       C  \n",
      "3                 0       T       C  \n",
      "4                 0       A       C  \n"
     ]
    }
   ],
   "source": [
    "bim_df.rename(columns={'Position': 'POS'}, inplace=True)\n",
    "\n",
    "# Merge glm_df and bim_df on 'POS'\n",
    "merged_df = pd.merge(glm_df, bim_df, on='POS', how='inner')\n",
    "\n",
    "# Display the first few rows of the merged DataFrame\n",
    "print(merged_df.head())"
   ]
  },
  {
   "cell_type": "code",
   "execution_count": 25,
   "id": "e17dbef7-4c69-498d-bef2-009605f0d2ec",
   "metadata": {},
   "outputs": [
    {
     "name": "stdout",
     "output_type": "stream",
     "text": [
      "          SNP A1 A2         Z      N\n",
      "0  rs12562034  A  G -0.599713  13135\n",
      "1   rs4040617  G  A -1.483930  13135\n",
      "2   rs4970383  A  C  2.190990  13135\n",
      "3   rs4475691  T  C  0.482787  13135\n",
      "4   rs1806509  A  C -1.540090  13135\n"
     ]
    }
   ],
   "source": [
    "final_df = merged_df[['rsID', 'A1', 'Allele2', 'T_STAT', 'OBS_CT']]\n",
    "\n",
    "# Rename columns for clarity\n",
    "final_df.columns = ['SNP', 'A1', 'A2',  'Z', 'N']\n",
    "\n",
    "# Display the first few rows of the final filtered DataFrame\n",
    "print(final_df.head())"
   ]
  },
  {
   "cell_type": "code",
   "execution_count": 26,
   "id": "d098f1fd-d721-47e4-9d63-1e7a043e6cad",
   "metadata": {},
   "outputs": [],
   "source": [
    "# Save the final_df as a tab-delimited text file\n",
    "final_df.to_csv(\"/gpfs/gibbs/pi/zhao/fw286/RealData/SDPRX_13k.txt\", sep=\"\\t\", index=False)\n"
   ]
  },
  {
   "cell_type": "code",
   "execution_count": 20,
   "id": "f8ee5216-3db6-4cdb-a7f8-d19a749959c1",
   "metadata": {},
   "outputs": [
    {
     "name": "stderr",
     "output_type": "stream",
     "text": [
      "/tmp/ipykernel_3595930/576351912.py:1: FutureWarning: The 'delim_whitespace' keyword in pd.read_csv is deprecated and will be removed in a future version. Use ``sep='\\s+'`` instead\n",
      "  summary_df = pd.read_csv(\"/gpfs/gibbs/pi/zhao/zhao-data/gz222/height/summ_stats/SDPR.txt\",delim_whitespace=True)\n"
     ]
    }
   ],
   "source": [
    "summary_df = pd.read_csv(\"/gpfs/gibbs/pi/zhao/zhao-data/gz222/height/summ_stats/SDPR.txt\",delim_whitespace=True)"
   ]
  },
  {
   "cell_type": "code",
   "execution_count": 21,
   "id": "3f6df65b-65ff-4ddb-a4f8-fe729641680b",
   "metadata": {},
   "outputs": [
    {
     "data": {
      "text/html": [
       "<div>\n",
       "<style scoped>\n",
       "    .dataframe tbody tr th:only-of-type {\n",
       "        vertical-align: middle;\n",
       "    }\n",
       "\n",
       "    .dataframe tbody tr th {\n",
       "        vertical-align: top;\n",
       "    }\n",
       "\n",
       "    .dataframe thead th {\n",
       "        text-align: right;\n",
       "    }\n",
       "</style>\n",
       "<table border=\"1\" class=\"dataframe\">\n",
       "  <thead>\n",
       "    <tr style=\"text-align: right;\">\n",
       "      <th></th>\n",
       "      <th>SNP</th>\n",
       "      <th>A1</th>\n",
       "      <th>A2</th>\n",
       "      <th>BETA</th>\n",
       "      <th>P</th>\n",
       "      <th>N</th>\n",
       "    </tr>\n",
       "  </thead>\n",
       "  <tbody>\n",
       "    <tr>\n",
       "      <th>0</th>\n",
       "      <td>rs737657</td>\n",
       "      <td>A</td>\n",
       "      <td>G</td>\n",
       "      <td>-2.044</td>\n",
       "      <td>0.040954</td>\n",
       "      <td>252156</td>\n",
       "    </tr>\n",
       "    <tr>\n",
       "      <th>1</th>\n",
       "      <td>rs7086391</td>\n",
       "      <td>T</td>\n",
       "      <td>C</td>\n",
       "      <td>-2.257</td>\n",
       "      <td>0.024008</td>\n",
       "      <td>248425</td>\n",
       "    </tr>\n",
       "    <tr>\n",
       "      <th>2</th>\n",
       "      <td>rs1983865</td>\n",
       "      <td>T</td>\n",
       "      <td>C</td>\n",
       "      <td>3.652</td>\n",
       "      <td>0.000260</td>\n",
       "      <td>253135</td>\n",
       "    </tr>\n",
       "    <tr>\n",
       "      <th>3</th>\n",
       "      <td>rs1983864</td>\n",
       "      <td>T</td>\n",
       "      <td>G</td>\n",
       "      <td>-4.378</td>\n",
       "      <td>0.000012</td>\n",
       "      <td>251364</td>\n",
       "    </tr>\n",
       "    <tr>\n",
       "      <th>4</th>\n",
       "      <td>rs12411954</td>\n",
       "      <td>T</td>\n",
       "      <td>C</td>\n",
       "      <td>0.399</td>\n",
       "      <td>0.689893</td>\n",
       "      <td>253213</td>\n",
       "    </tr>\n",
       "  </tbody>\n",
       "</table>\n",
       "</div>"
      ],
      "text/plain": [
       "          SNP A1 A2   BETA         P       N\n",
       "0    rs737657  A  G -2.044  0.040954  252156\n",
       "1   rs7086391  T  C -2.257  0.024008  248425\n",
       "2   rs1983865  T  C  3.652  0.000260  253135\n",
       "3   rs1983864  T  G -4.378  0.000012  251364\n",
       "4  rs12411954  T  C  0.399  0.689893  253213"
      ]
     },
     "execution_count": 21,
     "metadata": {},
     "output_type": "execute_result"
    }
   ],
   "source": [
    "summary_df.head()"
   ]
  },
  {
   "cell_type": "code",
   "execution_count": 22,
   "id": "7b972046-1b5f-4637-8b99-46d361c33d44",
   "metadata": {},
   "outputs": [
    {
     "name": "stdout",
     "output_type": "stream",
     "text": [
      "          SNP A1 A2      Z       N\n",
      "0    rs737657  A  G -2.044  252156\n",
      "1   rs7086391  T  C -2.257  248425\n",
      "2   rs1983865  T  C  3.652  253135\n",
      "3   rs1983864  T  G -4.378  251364\n",
      "4  rs12411954  T  C  0.399  253213\n"
     ]
    }
   ],
   "source": [
    "summary_df = summary_df[['SNP', 'A1', 'A2',  'BETA', 'N']]\n",
    "summary_df.columns = ['SNP', 'A1', 'A2',  'Z', 'N']\n",
    "\n",
    "# Display the first few rows of the final filtered DataFrame\n",
    "print(summary_df.head())\n",
    "summary_df.to_csv(\"/gpfs/gibbs/pi/zhao/fw286/RealData/SDPRX_eur.txt\",sep = \"\\t\", index=False)"
   ]
  },
  {
   "cell_type": "code",
   "execution_count": 27,
   "id": "f4fd7710-5a9a-4345-b0d1-a964a1109579",
   "metadata": {},
   "outputs": [
    {
     "data": {
      "text/html": [
       "<div>\n",
       "<style scoped>\n",
       "    .dataframe tbody tr th:only-of-type {\n",
       "        vertical-align: middle;\n",
       "    }\n",
       "\n",
       "    .dataframe tbody tr th {\n",
       "        vertical-align: top;\n",
       "    }\n",
       "\n",
       "    .dataframe thead th {\n",
       "        text-align: right;\n",
       "    }\n",
       "</style>\n",
       "<table border=\"1\" class=\"dataframe\">\n",
       "  <thead>\n",
       "    <tr style=\"text-align: right;\">\n",
       "      <th></th>\n",
       "      <th>SNP</th>\n",
       "      <th>A1_x</th>\n",
       "      <th>A2_x</th>\n",
       "      <th>Z_x</th>\n",
       "      <th>N_x</th>\n",
       "      <th>A1_y</th>\n",
       "      <th>A2_y</th>\n",
       "      <th>Z_y</th>\n",
       "      <th>N_y</th>\n",
       "    </tr>\n",
       "  </thead>\n",
       "  <tbody>\n",
       "    <tr>\n",
       "      <th>0</th>\n",
       "      <td>rs737657</td>\n",
       "      <td>A</td>\n",
       "      <td>G</td>\n",
       "      <td>-2.044</td>\n",
       "      <td>252156</td>\n",
       "      <td>G</td>\n",
       "      <td>A</td>\n",
       "      <td>-2.410150</td>\n",
       "      <td>13135</td>\n",
       "    </tr>\n",
       "    <tr>\n",
       "      <th>1</th>\n",
       "      <td>rs7086391</td>\n",
       "      <td>T</td>\n",
       "      <td>C</td>\n",
       "      <td>-2.257</td>\n",
       "      <td>248425</td>\n",
       "      <td>T</td>\n",
       "      <td>C</td>\n",
       "      <td>-0.921594</td>\n",
       "      <td>13135</td>\n",
       "    </tr>\n",
       "    <tr>\n",
       "      <th>2</th>\n",
       "      <td>rs1983865</td>\n",
       "      <td>T</td>\n",
       "      <td>C</td>\n",
       "      <td>3.652</td>\n",
       "      <td>253135</td>\n",
       "      <td>T</td>\n",
       "      <td>C</td>\n",
       "      <td>-1.592680</td>\n",
       "      <td>13135</td>\n",
       "    </tr>\n",
       "    <tr>\n",
       "      <th>3</th>\n",
       "      <td>rs1983864</td>\n",
       "      <td>T</td>\n",
       "      <td>G</td>\n",
       "      <td>-4.378</td>\n",
       "      <td>251364</td>\n",
       "      <td>G</td>\n",
       "      <td>T</td>\n",
       "      <td>-0.747962</td>\n",
       "      <td>13135</td>\n",
       "    </tr>\n",
       "    <tr>\n",
       "      <th>4</th>\n",
       "      <td>rs12411954</td>\n",
       "      <td>T</td>\n",
       "      <td>C</td>\n",
       "      <td>0.399</td>\n",
       "      <td>253213</td>\n",
       "      <td>T</td>\n",
       "      <td>C</td>\n",
       "      <td>-1.535510</td>\n",
       "      <td>13135</td>\n",
       "    </tr>\n",
       "    <tr>\n",
       "      <th>...</th>\n",
       "      <td>...</td>\n",
       "      <td>...</td>\n",
       "      <td>...</td>\n",
       "      <td>...</td>\n",
       "      <td>...</td>\n",
       "      <td>...</td>\n",
       "      <td>...</td>\n",
       "      <td>...</td>\n",
       "      <td>...</td>\n",
       "    </tr>\n",
       "    <tr>\n",
       "      <th>602803</th>\n",
       "      <td>rs11587251</td>\n",
       "      <td>A</td>\n",
       "      <td>G</td>\n",
       "      <td>0.126</td>\n",
       "      <td>230664</td>\n",
       "      <td>A</td>\n",
       "      <td>G</td>\n",
       "      <td>-0.364875</td>\n",
       "      <td>13135</td>\n",
       "    </tr>\n",
       "    <tr>\n",
       "      <th>602804</th>\n",
       "      <td>rs1910188</td>\n",
       "      <td>A</td>\n",
       "      <td>C</td>\n",
       "      <td>1.311</td>\n",
       "      <td>231038</td>\n",
       "      <td>C</td>\n",
       "      <td>A</td>\n",
       "      <td>-0.575346</td>\n",
       "      <td>13135</td>\n",
       "    </tr>\n",
       "    <tr>\n",
       "      <th>602805</th>\n",
       "      <td>rs3771341</td>\n",
       "      <td>T</td>\n",
       "      <td>G</td>\n",
       "      <td>0.292</td>\n",
       "      <td>211038</td>\n",
       "      <td>A</td>\n",
       "      <td>G</td>\n",
       "      <td>0.254132</td>\n",
       "      <td>13135</td>\n",
       "    </tr>\n",
       "    <tr>\n",
       "      <th>602806</th>\n",
       "      <td>rs764688</td>\n",
       "      <td>T</td>\n",
       "      <td>C</td>\n",
       "      <td>-0.806</td>\n",
       "      <td>212033</td>\n",
       "      <td>T</td>\n",
       "      <td>T</td>\n",
       "      <td>0.193239</td>\n",
       "      <td>13135</td>\n",
       "    </tr>\n",
       "    <tr>\n",
       "      <th>602807</th>\n",
       "      <td>rs9624480</td>\n",
       "      <td>T</td>\n",
       "      <td>C</td>\n",
       "      <td>-0.706</td>\n",
       "      <td>183127</td>\n",
       "      <td>T</td>\n",
       "      <td>C</td>\n",
       "      <td>1.018080</td>\n",
       "      <td>13135</td>\n",
       "    </tr>\n",
       "  </tbody>\n",
       "</table>\n",
       "<p>602808 rows × 9 columns</p>\n",
       "</div>"
      ],
      "text/plain": [
       "               SNP A1_x A2_x    Z_x     N_x A1_y A2_y       Z_y    N_y\n",
       "0         rs737657    A    G -2.044  252156    G    A -2.410150  13135\n",
       "1        rs7086391    T    C -2.257  248425    T    C -0.921594  13135\n",
       "2        rs1983865    T    C  3.652  253135    T    C -1.592680  13135\n",
       "3        rs1983864    T    G -4.378  251364    G    T -0.747962  13135\n",
       "4       rs12411954    T    C  0.399  253213    T    C -1.535510  13135\n",
       "...            ...  ...  ...    ...     ...  ...  ...       ...    ...\n",
       "602803  rs11587251    A    G  0.126  230664    A    G -0.364875  13135\n",
       "602804   rs1910188    A    C  1.311  231038    C    A -0.575346  13135\n",
       "602805   rs3771341    T    G  0.292  211038    A    G  0.254132  13135\n",
       "602806    rs764688    T    C -0.806  212033    T    T  0.193239  13135\n",
       "602807   rs9624480    T    C -0.706  183127    T    C  1.018080  13135\n",
       "\n",
       "[602808 rows x 9 columns]"
      ]
     },
     "execution_count": 27,
     "metadata": {},
     "output_type": "execute_result"
    }
   ],
   "source": [
    "pd.merge(summary_df,final_df,on = 'SNP',how = 'inner')"
   ]
  },
  {
   "cell_type": "code",
   "execution_count": null,
   "id": "207a6977-ca7e-4088-8b52-9c7f1ef8687e",
   "metadata": {},
   "outputs": [],
   "source": []
  }
 ],
 "metadata": {
  "kernelspec": {
   "display_name": "Python 3 (ipykernel)",
   "language": "python",
   "name": "python3"
  },
  "language_info": {
   "codemirror_mode": {
    "name": "ipython",
    "version": 3
   },
   "file_extension": ".py",
   "mimetype": "text/x-python",
   "name": "python",
   "nbconvert_exporter": "python",
   "pygments_lexer": "ipython3",
   "version": "3.12.5"
  }
 },
 "nbformat": 4,
 "nbformat_minor": 5
}
